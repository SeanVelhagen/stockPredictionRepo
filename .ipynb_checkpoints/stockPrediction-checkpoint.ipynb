{
 "cells": [
  {
   "cell_type": "code",
   "execution_count": null,
   "metadata": {},
   "outputs": [],
   "source": [
    "import csv\n",
    "from datetime import datetime as date\n",
    "\n",
    "from currentCompanySentiment import current_company_sentiment\n",
    "from getStockStats import get_stock_stats, evaluate_price, get_stock_visual\n",
    "from makeStockRNN import sort_stock_data, preprocess_stock_data, make_stock_rnn"
   ]
  },
  {
   "cell_type": "code",
   "execution_count": null,
   "metadata": {},
   "outputs": [],
   "source": [
    "print(f\"Today's date: {date.today()}\\n\")\n",
    "print('COMPANIES')\n",
    "print('0 : AAPL (Apple)')\n",
    "print('1 : AMZN (Amazon)')\n",
    "print('2 : F (Ford)')\n",
    "print('3 : GOOGL (Google)')\n",
    "print('4 : MSFT (Microsoft)')\n",
    "print('5 : NFLX (Netflix)')\n",
    "print('6 : TSLA (Tesla)\\n')\n",
    "ticker_val = int(float(input('Get the most recent sentiment on a specific company. Enter an integer: ')))\n",
    "print('')\n",
    "cur_ticker, company_name, overall_eval_int = current_company_sentiment(ticker_val)\n",
    "\n",
    "file = open(f'{company_name}_sentiments.csv', 'a')\n",
    "writer = csv.writer(file)\n",
    "writer.writerow([f'{date.today()}', overall_eval_int])\n",
    "file.close()"
   ]
  },
  {
   "cell_type": "markdown",
   "metadata": {},
   "source": [
    "---"
   ]
  },
  {
   "cell_type": "code",
   "execution_count": null,
   "metadata": {},
   "outputs": [],
   "source": [
    "cur_ticker, company_name = 'MSFT', 'Microsoft'"
   ]
  },
  {
   "cell_type": "code",
   "execution_count": null,
   "metadata": {},
   "outputs": [],
   "source": [
    "seq_length = int(input('Enter training period (in days): '))\n",
    "target_length = int(input('Enter no. of days ahead (has to be less than training period): '))\n",
    "\n",
    "while target_length > seq_length:\n",
    "    target_length = int(input('Try again. Enter no. of days ahead (has to be less than training period): '))"
   ]
  },
  {
   "cell_type": "code",
   "execution_count": null,
   "metadata": {},
   "outputs": [],
   "source": [
    "stock_data = get_stock_stats(cur_ticker, company_name, target_length)\n",
    "get_stock_visual(stock_data, company_name)"
   ]
  },
  {
   "cell_type": "markdown",
   "metadata": {},
   "source": [
    "--------"
   ]
  },
  {
   "cell_type": "code",
   "execution_count": null,
   "metadata": {},
   "outputs": [],
   "source": [
    "training_data, testing_data = sort_stock_data(stock_data)"
   ]
  },
  {
   "cell_type": "code",
   "execution_count": null,
   "metadata": {},
   "outputs": [],
   "source": [
    "x_train, y_train = preprocess_stock_data(training_data, seq_length)"
   ]
  },
  {
   "cell_type": "code",
   "execution_count": null,
   "metadata": {},
   "outputs": [],
   "source": [
    "print(training_data)"
   ]
  },
  {
   "cell_type": "code",
   "execution_count": null,
   "metadata": {},
   "outputs": [],
   "source": [
    "x_test, y_test = preprocess_stock_data(testing_data, seq_length)"
   ]
  },
  {
   "cell_type": "code",
   "execution_count": null,
   "metadata": {},
   "outputs": [],
   "source": [
    "print(f'Train data: {len(x_train)}. Test data: {len(x_test)}')\n",
    "print(f'Train sells: {y_train.count(0)}. Buys: {y_train.count(1)}')\n",
    "print(f'Test sells: {y_test.count(0)}. Buys: {y_test.count(1)}')"
   ]
  },
  {
   "cell_type": "markdown",
   "metadata": {},
   "source": [
    "---------------------"
   ]
  },
  {
   "cell_type": "code",
   "execution_count": null,
   "metadata": {},
   "outputs": [],
   "source": [
    "make_stock_rnn(x_train, y_train, x_test, y_test, seq_length, target_length, company_name)"
   ]
  },
  {
   "cell_type": "code",
   "execution_count": null,
   "metadata": {},
   "outputs": [],
   "source": []
  }
 ],
 "metadata": {
  "kernelspec": {
   "display_name": "Python 3",
   "language": "python",
   "name": "python3"
  },
  "language_info": {
   "codemirror_mode": {
    "name": "ipython",
    "version": 3
   },
   "file_extension": ".py",
   "mimetype": "text/x-python",
   "name": "python",
   "nbconvert_exporter": "python",
   "pygments_lexer": "ipython3",
   "version": "3.7.3"
  }
 },
 "nbformat": 4,
 "nbformat_minor": 2
}
