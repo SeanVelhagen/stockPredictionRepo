{
 "cells": [
  {
   "cell_type": "code",
   "execution_count": 1,
   "metadata": {},
   "outputs": [],
   "source": [
    "from pandas_datareader import data as wb\n",
    "from pandas.plotting import register_matplotlib_converters\n",
    "register_matplotlib_converters()\n",
    "\n",
    "import threading, time\n",
    "from matplotlib import pyplot as plt\n",
    "from pylab import rcParams\n",
    "from textblob import TextBlob\n",
    "from selenium import webdriver"
   ]
  },
  {
   "cell_type": "code",
   "execution_count": 2,
   "metadata": {},
   "outputs": [
    {
     "name": "stdout",
     "output_type": "stream",
     "text": [
      "Get the most recent sentiment on a specific company. Enter an integer:\n",
      "0 : AAPL (Apple)\n",
      "1 : F (Ford)\n",
      "2 : NFLX (Netflix)\n",
      "3 : MSFT (Microsoft)\n",
      "4 : TSLA (Tesla)\n",
      "2\n",
      "\n",
      "\n",
      "Article name: Netflix Shares Plunge Most in a Year After U.S. Customers Leave Service\n",
      "Yahoo Finance Netflix article 1 opened.\n",
      "Netflix article 1 sentiment: Good.\n",
      "\n",
      "Article name: Netflix’s Tight-Lipped Culture Makes It Hard to Avoid Surprises\n",
      "Yahoo Finance Netflix article 2 opened.\n",
      "Netflix article 2 sentiment: Bad.\n",
      "\n",
      "Article name: 'Stranger Things' could've saved Netflix's disappointing quarter\n",
      "Yahoo Finance Netflix article 3 opened.\n",
      "Netflix article 3 sentiment: Bad.\n",
      "\n",
      "Article name: Wedbush analyst on Morgan Stanley's Netflix stock call: It's 'idiotic'\n",
      "Yahoo Finance Netflix article 4 opened.\n",
      "Netflix article 4 sentiment: Bad.\n",
      "\n",
      "Current Netflix sentiment: Bad.\n"
     ]
    }
   ],
   "source": [
    "tickers = ['AAPL', 'F', 'NFLX', 'MSFT', 'TSLA']\n",
    "\n",
    "ticker_dict = {\n",
    "    'AAPL' : 'Apple',\n",
    "    'F' : 'Ford',\n",
    "    'NFLX' : 'Netflix',\n",
    "    'MSFT' : 'Microsoft',\n",
    "    'TSLA' : 'Tesla'\n",
    "}\n",
    "\n",
    "print('Get the most recent sentiment on a specific company. Enter an integer:')\n",
    "print('0 : AAPL (Apple)')\n",
    "print('1 : F (Ford)')\n",
    "print('2 : NFLX (Netflix)')\n",
    "print('3 : MSFT (Microsoft)')\n",
    "print('4 : TSLA (Tesla)\\n')\n",
    "val = int(float(input('')))\n",
    "print('You chose:\\n{0} : {1}\\n'.format(str(val), ticket_dict[val]))\n",
    "name = ticker_dict.get(tickers[val])\n",
    "driver = webdriver.Firefox(executable_path='./geckodriver')\n",
    "site = 'https://finance.yahoo.com'\n",
    "driver.get(site)\n",
    "\n",
    "try:\n",
    "    driver.find_element_by_xpath('//button[@name=\"agree\"]').click()\n",
    "except:\n",
    "    pass\n",
    "\n",
    "for scroll in range(20):\n",
    "    driver.execute_script('window.scrollBy(0, 2000)')\n",
    "    time.sleep(2)\n",
    "\n",
    "link_elems = driver.find_elements_by_xpath('//ul/li/div/div/div/h3/a')\n",
    "evals_arr = []\n",
    "zeroes = []\n",
    "ones = []\n",
    "k = 1\n",
    "\n",
    "eval_dict = {\n",
    "    0 : 'Bad',\n",
    "    1 : 'Good',\n",
    "    None : 'Neutral'\n",
    "}\n",
    "\n",
    "for elem in link_elems:\n",
    "    if not 'finance.yahoo' in elem.get_attribute('href'):\n",
    "        pass\n",
    "    if name.upper() in elem.text.upper():\n",
    "        print('Article name: ' + elem.text)\n",
    "        driver2 = webdriver.Firefox(executable_path='./geckodriver')\n",
    "        driver2.get(elem.get_attribute('href'))\n",
    "            \n",
    "        try:\n",
    "            driver2.find_element_by_xpath('//button[@name=\"agree\"]').click()\n",
    "        except:\n",
    "            pass\n",
    "        \n",
    "        print('Yahoo Finance {0} article {1} opened.'.format(name, k))\n",
    "        article_text = driver2.find_elements_by_xpath('//article/div/p')\n",
    "        file = open('current_text.txt', 'w')\n",
    "\n",
    "        for p in article_text:\n",
    "            if p.get_attribute('content')[:7] == '<a href':\n",
    "                break\n",
    "            file.write(site+elem.text+' ')\n",
    "\n",
    "        file.close()\n",
    "        file = open('current_text.txt', 'r')\n",
    "\n",
    "        polarity = TextBlob(file.read()).sentiment.polarity\n",
    "\n",
    "        if polarity < 0:\n",
    "            eval_int = 0\n",
    "        elif polarity > 0:\n",
    "            eval_int = 1\n",
    "        else:\n",
    "            eval_int = None\n",
    "\n",
    "        evals_arr.append(eval_int)\n",
    "\n",
    "        print('{0} article {1} sentiment: {2}.\\n'.format(name, str(k), eval_dict.get(eval_int)))\n",
    "        k += 1\n",
    "\n",
    "        driver2.close()\n",
    "\n",
    "driver.close()\n",
    "file = open('current_text.txt', 'w')\n",
    "file.close()\n",
    "            \n",
    "for evaluation in evals_arr:\n",
    "    if evaluation == 0:\n",
    "        zeroes.append(evaluation)\n",
    "    elif evaluation == 1:\n",
    "        ones.append(evaluation)\n",
    "\n",
    "if len(ones) > len(zeroes):\n",
    "    overall_eval_int = 1\n",
    "elif len(zeroes) > len(ones):\n",
    "    overall_eval_int = 0\n",
    "else:\n",
    "    overall_eval_int = None\n",
    "\n",
    "print('Current {0} sentiment: {1}.'.format(name, eval_dict.get(overall_eval_int)))"
   ]
  },
  {
   "cell_type": "code",
   "execution_count": 3,
   "metadata": {},
   "outputs": [],
   "source": [
    "adj_close_data = wb.DataReader(tickers[val], data_source='yahoo', start='1995-1-1')['Adj Close']"
   ]
  },
  {
   "cell_type": "code",
   "execution_count": 4,
   "metadata": {},
   "outputs": [
    {
     "data": {
      "text/plain": [
       "<function matplotlib.pyplot.show(*args, **kw)>"
      ]
     },
     "execution_count": 4,
     "metadata": {},
     "output_type": "execute_result"
    },
    {
     "data": {
      "image/png": "[encoded data removed]",
      "text/plain": [
       "<Figure size 1080x504 with 1 Axes>"
      ]
     },
     "metadata": {
      "needs_background": "light"
     },
     "output_type": "display_data"
    }
   ],
   "source": [
    "rcParams['figure.figsize'] = 15, 7\n",
    "plt.plot(adj_close_data)\n",
    "plt.title('{0} Adjusted Close Price (USD)'.format(name))\n",
    "plt.show"
   ]
  },
  {
   "cell_type": "markdown",
   "metadata": {},
   "source": [
    "-------------------------------------"
   ]
  },
  {
   "cell_type": "code",
   "execution_count": null,
   "metadata": {},
   "outputs": [],
   "source": []
  }
 ],
 "metadata": {
  "kernelspec": {
   "display_name": "Python 3",
   "language": "python",
   "name": "python3"
  },
  "language_info": {
   "codemirror_mode": {
    "name": "ipython",
    "version": 3
   },
   "file_extension": ".py",
   "mimetype": "text/x-python",
   "name": "python",
   "nbconvert_exporter": "python",
   "pygments_lexer": "ipython3",
   "version": "3.7.3"
  }
 },
 "nbformat": 4,
 "nbformat_minor": 2
}
